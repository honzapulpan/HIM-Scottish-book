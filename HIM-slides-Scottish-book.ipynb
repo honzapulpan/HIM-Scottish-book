{
 "cells": [
  {
   "cell_type": "markdown",
   "metadata": {
    "slideshow": {
     "slide_type": "slide"
    }
   },
   "source": [
    "![Skotská kniha](titulek.jpg)\n",
    "\n",
    "# <center>Příběh Skotské knihy</center>\n",
    "\n",
    "<br><br><br><br>\n",
    "<center><b>semestrální práce KMA/HIM</b></center>\n",
    "<center><b>Honza Půlpán</b></center>\n"
   ]
  },
  {
   "cell_type": "markdown",
   "metadata": {
    "slideshow": {
     "slide_type": "slide"
    }
   },
   "source": [
    "## Lvovská matematická škola\n",
    "\n",
    "- Lvov, dnešní Ukrajina\n",
    "- do roku 1918 Rakousko-Uhersko (Halič), po roce 1918 patřil Polsku\n",
    "- Lvovský Polytechnický institut\n",
    "- Univerzita Jana Kazimerzkého\n",
    "- spolupráce matematiků z celého Polska\n",
    "\n"
   ]
  },
  {
   "cell_type": "markdown",
   "metadata": {
    "slideshow": {
     "slide_type": "slide"
    }
   },
   "source": [
    "## Osoby a obsazení\n",
    "\n",
    "\\begin{eqnarray*}\n",
    "\\textrm{Stefan Banach} & & \\textrm{Juliusz Schauder} & & \\textrm{Józef Schreier}\\\\\n",
    "\\textrm{Stanislaw Ulam} & & \\textrm{Mark Kac} & & \\textrm{Antoni Lomnicki / Stanislaw Saks}\\\\\n",
    "\\textrm{Stanislaw Mazur} & & \\textrm{Kazimierz Kuratowski} & & \\textrm{Wladyslaw Orlicz}\\\\\n",
    "\\textrm{Hugo Steinhaus} & & \\textrm{Stefan Kaczmarz} & & \\textrm{Stanislaw Ruziewicz}\\\\\n",
    "\\end{eqnarray*}\n",
    "\n"
   ]
  },
  {
   "cell_type": "markdown",
   "metadata": {
    "slideshow": {
     "slide_type": "slide"
    }
   },
   "source": [
    "## Lvov mezi válkami\n"
   ]
  },
  {
   "cell_type": "markdown",
   "metadata": {
    "slideshow": {
     "slide_type": "slide"
    }
   },
   "source": [
    "## Skotská kniha\n",
    "\n",
    "- jak vzniká\n",
    "- kde, kdoo se na ni podílí"
   ]
  },
  {
   "cell_type": "markdown",
   "metadata": {
    "slideshow": {
     "slide_type": "slide"
    }
   },
   "source": [
    "## Skotská kniha\n",
    "\n",
    "- jaké problémy, čím se zabývá"
   ]
  },
  {
   "cell_type": "markdown",
   "metadata": {
    "slideshow": {
     "slide_type": "slide"
    }
   },
   "source": [
    "## Banachovy prostory\n",
    "\n",
    "- definice cauchyovské posloupnosti\n",
    "- definice banachova prostoru"
   ]
  },
  {
   "cell_type": "markdown",
   "metadata": {
    "slideshow": {
     "slide_type": "slide"
    }
   },
   "source": [
    "## Banachovy prostory\n",
    "\n",
    "- definice kompaktnosti"
   ]
  },
  {
   "cell_type": "markdown",
   "metadata": {
    "slideshow": {
     "slide_type": "slide"
    }
   },
   "source": [
    "### Problém 1: Banach\n",
    "![Problém 1: Banach](problem_1.jpg)\n",
    "<center><i>Obr 3: Problém 1 ve Skotské knize zapsaný Banachem</i></center>"
   ]
  },
  {
   "cell_type": "markdown",
   "metadata": {
    "slideshow": {
     "slide_type": "slide"
    }
   },
   "source": [
    "### Problém 1: Banach\n",
    "(a) Jestliže bude metrický prostor [respektive prostor typu (B)] metrizován tak, že se stane úplným a kompaktním, budou všechny posloupnosti konvergující v původním prostoru konvergovat i v nové metrice?\n",
    "\n",
    "(b) Můž být metrizován například prostor $[c_0]$ (prostor všech posloupností konvergujících k $0$) ?\n",
    "\n",
    "__Komentář:__\n",
    "Na otázka (a) neexistuje dodnes uspokojivá odpověd. Odpověd na otázku (b) je ano."
   ]
  },
  {
   "cell_type": "markdown",
   "metadata": {
    "slideshow": {
     "slide_type": "slide"
    }
   },
   "source": [
    "### Problém 42: Ulam\n",
    "\n",
    "Ke každé uzavřené, konvexní množině $X$, obsažené v uzavřené kouli $K$ v Euklidovském prostoru, je spojitě (ve smyslu Hausdorffovy metriky) přiřazena konvexní uzavřená množina $f(X)$ obsažená v $K$. Existuje pevný bod, tedy uzavřená, konvexní množina $X_0$ a platí $f(X_0) = X_0?$\n",
    "\n",
    "__Věta (Mazur)__: Nechť $E$ je třída konvexních, uzavřených množin obsažených v kouli $K$ s vlastnostmi:\n",
    "\n",
    "1. Jestliže $A \\in E$, $B \\in E$, potom také $\\lambda A + (1-\\lambda)B \\in E$ pro $0 \\leq \\lambda \\geq 1$.\n",
    "2. Jestliže $A_n \\in E$ a posloupnost $\\{A_n\\}_{n=1}^{+\\infty}$ konverguje k $A$, potom i $A \\in E$.\n",
    "\n",
    "Předpokládejme, že $f(x)$ je spojitá funkce v $E$, jejíž obor hodnot je v $E$. Potom existuje pevný bod, tedy $X_0 \\in E$ takové, že $f(X_0)=X_0$.\n",
    "\n",
    "Příkladem takové třídy $E$ jsou například všechny uzavřené, konvexní množiny obsažené v $K$ s poloměrem ne větším než dané číslo $\\phi > 0$."
   ]
  },
  {
   "cell_type": "markdown",
   "metadata": {
    "slideshow": {
     "slide_type": "slide"
    }
   },
   "source": [
    "### Problém 42: Ulam\n",
    "![Problém 42: Ulam](problem_42.jpg)\n",
    "<center><i>Obr 4: Problém 42 ve Skotské knize</i></center>"
   ]
  },
  {
   "cell_type": "markdown",
   "metadata": {
    "slideshow": {
     "slide_type": "slide"
    }
   },
   "source": [
    "### Problém 42: Ulam\n",
    "__Komentář:__ Problém 42 je vyřešen a představit si to můžeme třeba následujícím způsobem. Existuje kanonické vnoření množiny všech neprázdných, konvexních a kompaktních podmožin lineárního prostoru do jiného lineárního prostoru. Jestliže je první prostor normovaný, je i ten druhý. Vnoření pak zachovává konvexní kombinace. V rámci problému 42 bude obrazem tohoto vnoření kompaktní a konvexní podmnožina normovaného prostoru a existence pevného bodu tak plyne z Schauderovy věty o pevném bodě, které se týká následující problém 54."
   ]
  },
  {
   "cell_type": "markdown",
   "metadata": {
    "slideshow": {
     "slide_type": "slide"
    }
   },
   "source": [
    "Následující problém dnes známe jako Schauderovu větu o pevném bodě a je základem pro spoustu dalších vět o pevném bodě.\n",
    "### Problém 54: Schauder\n",
    "\n",
    "\n",
    "\n",
    "(a) Něcht $H$ je konvexní, uzavřená a kompaktní množina. $U(x): H \\mapsto \\mathcal{M} \\subset H$ je spojité zobrazení zobrazující $H$ na podmožinu $\\mathcal{M}$. $H$ je podmnožinou prostoru typu $(F)$. Existuje pevný bod zobrazení $U(x)$?\n",
    "\n",
    "(b) Vyřešte stejný problém pro libovolný lineární topologický prostor nebo takový prostor, ve kterém existují libovolně malé konvexní okolí.\n",
    "\n",
    "__Komentář:__\n",
    "Na obě otázky v části (b) existuje řešení už delší dobu. První část problému byla ovšem dokázána až v roce 2005 R. Cautym (Rétractes absolus de voisinage algébriques, Serdica Math. J. 31 (2005), no. 4, 309–354) "
   ]
  },
  {
   "cell_type": "markdown",
   "metadata": {
    "slideshow": {
     "slide_type": "slide"
    }
   },
   "source": [
    "### Problém 54: Schauder\n",
    "![Problém 54: Schauder](problem_54.jpg)\n",
    "<center><i>Obr 5: Problém 54 ve Skotské knize</i></center>"
   ]
  },
  {
   "cell_type": "markdown",
   "metadata": {
    "slideshow": {
     "slide_type": "slide"
    }
   },
   "source": [
    "## Druhá světová válka\n"
   ]
  },
  {
   "cell_type": "markdown",
   "metadata": {
    "slideshow": {
     "slide_type": "slide"
    }
   },
   "source": [
    "## Poválečný vývoj\n"
   ]
  },
  {
   "cell_type": "markdown",
   "metadata": {
    "slideshow": {
     "slide_type": "slide"
    }
   },
   "source": [
    "# Děkuji"
   ]
  },
  {
   "cell_type": "markdown",
   "metadata": {
    "slideshow": {
     "slide_type": "slide"
    }
   },
   "source": [
    "#### Literatura\n",
    "\n",
    "(1) Mathematics from the Scottish Café, with Selected Problems from the New Scottish Book, second edition Edited by R. Daniel Mauldin: BASEL: BIRKHÄUSER, 2015, XVIII+322 PP.\n",
    "\n",
    "(2) Wikipedia contributors. (2021, April 4). Scottish Book. In Wikipedia, The Free Encyclopedia. Retrieved 18:50, May 5, 2021, from https://en.wikipedia.org/w/index.php?title=Scottish_Book&oldid=1016001127\n",
    "\n",
    "(3) Maths, Madness and the Manhattan Project: the Eccentric Lives of Steinhaus, Banach and Ulam: Ania Legierska, (text based on Mariusz Urbanek's Genialni. Lwowska Szkoła Matematyczna) translator: MJ 02/12/2014: https://culture.pl/en/article/maths-madness-and-the-manhattan-project-the-eccentric-lives-of-steinhaus-banach-and-ulam\n",
    "\n",
    "(4) Wortal Stefana Banacha, Archiwalia, Emilia Jakimowicz a Adam Miranowicz, 2012  : http://kielich.amu.edu.pl/Stefan_Banach/archiwalia.html\n",
    "\n",
    "(5) Uniwersytet Wroclawski, Nowa Ksiega Szkocka : http://www.wmi.uni.wroc.pl/pl/New_Scottish_Book"
   ]
  }
 ],
 "metadata": {
  "celltoolbar": "Slideshow",
  "kernelspec": {
   "display_name": "Python 3",
   "language": "python",
   "name": "python3"
  },
  "language_info": {
   "codemirror_mode": {
    "name": "ipython",
    "version": 3
   },
   "file_extension": ".py",
   "mimetype": "text/x-python",
   "name": "python",
   "nbconvert_exporter": "python",
   "pygments_lexer": "ipython3",
   "version": "3.8.2"
  },
  "rise": {
   "transition": "fade"
  }
 },
 "nbformat": 4,
 "nbformat_minor": 4
}
