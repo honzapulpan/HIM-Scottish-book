{
 "cells": [
  {
   "cell_type": "markdown",
   "metadata": {
    "slideshow": {
     "slide_type": "slide"
    }
   },
   "source": [
    "![Skotská kniha](titulek.jpg)\n",
    "\n",
    "# <center>Příběh Skotské knihy</center>\n",
    "\n",
    "<br><br><br><br>\n",
    "<center><b>semestrální práce KMA/HIM</b></center>\n",
    "<center><b>Honza Půlpán</b></center>\n"
   ]
  },
  {
   "cell_type": "markdown",
   "metadata": {
    "slideshow": {
     "slide_type": "slide"
    }
   },
   "source": [
    "## Lvovská matematická škola\n",
    "\n",
    "- Lvov, Halič, dnešní Ukrajina\n",
    "- do roku 1918 Rakousko-Uhersko, po roce 1918 patří území Polsku\n",
    "- Lvovský Polytechnický institut\n",
    "- Univerzita Jana Kazimerzkého\n",
    "- spolupráce matematiků z celého Polska\n",
    "\n"
   ]
  },
  {
   "cell_type": "markdown",
   "metadata": {
    "slideshow": {
     "slide_type": "slide"
    }
   },
   "source": [
    "## Osoby a obsazení\n",
    "\n",
    "<br><br><br>\n",
    "\\begin{array}{ccc}\n",
    "\\text{Hugo Steinhaus} & & \\textrm{Juliusz Schauder} & & \\textrm{Józef Schreier}\\\\\n",
    "\\textrm{Stefan Banach} & & \\textrm{Mark Kac} & & \\textrm{Stanislaw Saks}\\\\\n",
    "\\textrm{Stanislaw Ulam} & & \\textrm{Kazimierz Kuratowski} & & \\textrm{Wladyslaw Orlicz}\\\\\n",
    "\\textrm{Stanislaw Mazur} & & \\textrm{Stefan Kaczmarz} & & \\textrm{Stanislaw Ruziewicz}\\\\\n",
    "\\end{array}\n",
    "\n",
    "\n"
   ]
  },
  {
   "cell_type": "markdown",
   "metadata": {
    "slideshow": {
     "slide_type": "slide"
    }
   },
   "source": [
    "## Osoby a obsazení\n",
    "<br><br>\n",
    "<center>\n",
    "    <img src=\"matematicky_sjezd_1930.png\" width=1200>\n",
    "</center>\n",
    "<center><i>Sjezd matematiků ve Lvově 1930</i></center>"
   ]
  },
  {
   "cell_type": "markdown",
   "metadata": {
    "slideshow": {
     "slide_type": "slide"
    }
   },
   "source": [
    "## Lvov mezi válkami\n",
    "\n",
    "- 1918 skončila První světová válka\n",
    "- Lvov už není součástí Rakouska-Uherska, stává se součástí Polska\n",
    "- 1919 Ukrajinská lidová republika\n",
    "- v létě 1919 opět součástí Polska\n",
    "- až do Sovětské okupace v roce 1939 součást Polska\n"
   ]
  },
  {
   "cell_type": "markdown",
   "metadata": {
    "slideshow": {
     "slide_type": "slide"
    }
   },
   "source": [
    "## Skotská kniha\n",
    "\n",
    "- matematici se schází v Café Szkocka\n",
    "- diskutují otevřené matematické problémy (kromě popíjení, kouření, diskuzích o politice a hraní šachů)\n",
    "- hlavní účastníci jsou Stefan Banach, Stanislaw Ulam a Stanislaw Mazur\n",
    "- nejdřív píšou přímo na mramorové desky stolů\n",
    "- později jim Banachova žena Lucja pořizuje velký sešit, ten nechávají u personálu v kavárně\n",
    "<br><br>\n",
    "<center>\n",
    "    <img src=\"szkocka_big.jpg\">\n",
    "</center>\n",
    "\n"
   ]
  },
  {
   "cell_type": "markdown",
   "metadata": {
    "slideshow": {
     "slide_type": "slide"
    }
   },
   "source": [
    "## Skotská kniha\n",
    "\n",
    "- první problém v knize je zapsán Banachem 17. července 1975\n",
    "- poslední 193. problém zapisuje Hugo Steinhaus 31. května 1941\n",
    "- nejvíce problému zapisují Banach, Ulam a Mazur\n",
    "- kromě členů Lvovské matematické školy i hosté: Frechét, Sobolew nebo von Neumann\n",
    "\n",
    "- problémy z teorie grup, topologie, teorie míry, teorie míry nebo pravděpodobnosti\n",
    "- nejvíce ale asi z reálné a funkcionální analýzy\n",
    "- do dneška je hodně problémů stále nedořešeno (podle vydání Skotské knihy z roku 2015 ještě 43)\n",
    "\n",
    "<center>\n",
    "    <img src=\"banach-steinhaus-ulam.png\" width=1000>\n",
    "</center>\n"
   ]
  },
  {
   "cell_type": "markdown",
   "metadata": {
    "slideshow": {
     "slide_type": "slide"
    }
   },
   "source": [
    "## Skotská kniha\n",
    "\n",
    "- hodně se týká prostorů typu [B] (dnes jim říkáme Banachovy prostory)\n",
    "- prostory které mají podobné vlastnosti ale nepodobají se svými prvky\n",
    "- příklady:\n",
    "    - reálná čísl $\\mathbb{R}$\n",
    "    - prostor konvergentních řad $l^2$\n",
    "    - prostor všech Lebegueovsky integrovatelných funkcí $L^2$\n",
    "    - Sobolevovovy prostory $W_0^{1,2}$ - prostor všech slabých řešení Dirichletovy úlohy \n",
    "- hodně problémů se zabývá aproximacemi, redukcí něčeho nekonečného na konečnou strukturu \n",
    "- problémy kompaktních resp. nekompaktních množin/prostorů\n"
   ]
  },
  {
   "cell_type": "markdown",
   "metadata": {
    "slideshow": {
     "slide_type": "slide"
    }
   },
   "source": [
    "## Banachovy prostory\n",
    "\n",
    "_Definice_:<br>\n",
    "V metrickém prostoru $X$ s metrikou $d$ je posloupnost $(x_1, x_2, \\ldots)$ __cauchyovská__, pokud pro každou libovolně malou vzdálenost platí, že od jistého bodu jsou všechny členy posloupnosti k sobě blíže než je tato vzdálenost. \n",
    "\n",
    "\\begin{equation}\n",
    "\\forall \\epsilon > 0 \\; \\exists! n_0 \\in \\mathbb{N} \\; \\forall n,m \\in \\mathbb{N}: n > n_0 \\land m > n_0 \\implies d(x_n, x_m) < \\epsilon\n",
    "\\end{equation}\n",
    "<br><br>\n",
    "_Definice_:<br> __Banachovým prostorem__ rozumíme _úplný_ normovaný lineární prostor. Tedy takový lineární prostor $X$ nad tělesem reálných nebo komplexních čísel s normou $\\Vert \\cdot \\Vert$, ve kterém je každá cauchyovská posloupnost konvergentní, tedy v indukované metrice $d(x_n, x_m) = \\Vert x_n - x_m \\Vert$ má limitu."
   ]
  },
  {
   "cell_type": "markdown",
   "metadata": {
    "slideshow": {
     "slide_type": "notes"
    }
   },
   "source": [
    "- ukázat příklady reálných číslech (jsou Banachovým prostorem) a racionálních číslou (nejsou)"
   ]
  },
  {
   "cell_type": "markdown",
   "metadata": {
    "slideshow": {
     "slide_type": "slide"
    }
   },
   "source": [
    "## Banachovy prostory\n",
    "\n",
    "   _Definice_:<br>\n",
    "Množina $\\mathcal{M}$ metrického prostoru $X$ se nazývá __kompaktní__, pokud z každé posloupnosti $\\{ x_n \\}_{n=1}^{\\infty},\\, x_n \\in X$ lze vybrat konvergentní podposloupnost."
   ]
  },
  {
   "cell_type": "markdown",
   "metadata": {
    "slideshow": {
     "slide_type": "notes"
    }
   },
   "source": [
    "Naší skupinu zajímají speciálně ty problémy, které pracují s kompaktnostní, nebo spíše nekompaktností. Proto si uveďme ještě třetí definici."
   ]
  },
  {
   "cell_type": "markdown",
   "metadata": {
    "slideshow": {
     "slide_type": "slide"
    }
   },
   "source": [
    "### Problém 1: Banach\n",
    "(a) Jestliže bude metrický prostor [respektive prostor typu (B)] metrizován tak, že se stane úplným a kompaktním, budou všechny posloupnosti konvergující v původním prostoru konvergovat i v nové metrice?\n",
    "\n",
    "(b) Můž být metrizován například prostor $[c_0]$ (prostor všech posloupností konvergujících k $0$) ?\n",
    "\n",
    "__Komentář:__\n",
    "Na otázka (a) neexistuje dodnes uspokojivá odpověd. Odpověd na otázku (b) je ano.\n",
    "\n",
    "![Problém 1: Banach](problem_1.jpg)\n",
    "<center><i>Problém 1 ve Skotské knize zapsaný Banachem</i></center>"
   ]
  },
  {
   "cell_type": "markdown",
   "metadata": {
    "slideshow": {
     "slide_type": "slide"
    }
   },
   "source": [
    "### Problém 42: Ulam\n",
    "\n",
    "Ke každé uzavřené, konvexní množině $X$, obsažené v uzavřené kouli $K$ v Euklidovském prostoru, je spojitě (ve smyslu Hausdorffovy metriky) přiřazena konvexní uzavřená množina $f(X)$ obsažená v $K$. Existuje pevný bod, tedy uzavřená, konvexní množina $X_0$ a platí $f(X_0) = X_0?$\n",
    "\n",
    "__Komentář:__ Problém 42 je vyřešen a odpověď je ano.\n",
    "\n",
    "![Problém 42: Ulam](problem_42.jpg)\n",
    "<center><i>Problém 42 ve Skotské knize</i></center>"
   ]
  },
  {
   "cell_type": "markdown",
   "metadata": {
    "slideshow": {
     "slide_type": "notes"
    }
   },
   "source": [
    "Následující problém dnes známe jako Schauderovu větu o pevném bodě a je základem pro spoustu dalších vět o pevném bodě."
   ]
  },
  {
   "cell_type": "markdown",
   "metadata": {
    "slideshow": {
     "slide_type": "slide"
    }
   },
   "source": [
    "### Problém 54: Schauder\n",
    "\n",
    "\n",
    "\n",
    "(a) Něcht $H$ je konvexní, uzavřená a kompaktní množina. $U(x): H \\mapsto \\mathcal{M} \\subset H$ je spojité zobrazení zobrazující $H$ na podmožinu $\\mathcal{M}$. $H$ je podmnožinou prostoru typu $(F)$. Existuje pevný bod zobrazení $U(x)$?\n",
    "\n",
    "(b) Vyřešte stejný problém pro libovolný lineární topologický prostor nebo takový prostor, ve kterém existují libovolně malé konvexní okolí.\n",
    "\n",
    "__Komentář:__\n",
    "Na obě otázky v části (b) existuje řešení už delší dobu. První část problému byla ovšem dokázána až v roce 2005\n",
    "\n",
    "![Problém 54: Schauder](problem_54.jpg)\n",
    "<center><i>Problém 54 ve Skotské knize</i></center>"
   ]
  },
  {
   "cell_type": "markdown",
   "metadata": {
    "slideshow": {
     "slide_type": "slide"
    }
   },
   "source": [
    "## Druhá světová válka\n",
    "\n",
    "- už v roce 1936 se Ulam na pozvání von Neumanna přesouvá do USA\n",
    "- do Lvova vtrhnou nejdříve v roce 1939 Rusové, v roce 1941 Němci a pak opět v roce 1944 Rusové\n",
    "- matematici se skrývají hlavně před Němci\n",
    "- Banach krátce po válce umírá\n",
    "- matematici i Skotská kniha se přesouvají do Vratislavy\n"
   ]
  },
  {
   "cell_type": "markdown",
   "metadata": {
    "slideshow": {
     "slide_type": "notes"
    }
   },
   "source": [
    "- Ulam se do Lvova vrací vždy na léto\n",
    "- Banach se během války živí jako krmič vší pro výzkum vakcíny na tyfus\n",
    "- Banach umírá na rakovinu, byl chain smoker\n"
   ]
  },
  {
   "cell_type": "markdown",
   "metadata": {
    "slideshow": {
     "slide_type": "slide"
    }
   },
   "source": [
    "## Skotská kniha po válce\n",
    "\n",
    "- kopii Skotské knihy posílá Steinhaus v roce 1956 Ulamovi do Alama, USA\n",
    "- přeloženou do angličtiny ji Ulam posílá svým známým akademikům\n",
    "- v roce 1977 ji vydává knižně"
   ]
  },
  {
   "cell_type": "markdown",
   "metadata": {
    "slideshow": {
     "slide_type": "notes"
    }
   },
   "source": [
    "- existují i oficiální vydání, poslední z roku 2015"
   ]
  },
  {
   "cell_type": "markdown",
   "metadata": {
    "slideshow": {
     "slide_type": "slide"
    }
   },
   "source": [
    "## Poválečný vývoj\n",
    "\n",
    "- Hugo Steinhaus 2. července 1946 ve Vratislav píše první problém do Nové Skotské knihy\n",
    "- brzo do ní přispívá i Václav Jarník\n",
    "- ve Lvově je v rekonstruovaném, Café Szkocka uložena Lvovská Skotská kniha\n",
    "\n",
    "![Nová Skotská kniha - Václav Jarník](jarnik_small.jpg)\n",
    "<center><i>Zápis v Nové Skotské knize od Václava Jarníka</i></center>"
   ]
  },
  {
   "cell_type": "markdown",
   "metadata": {
    "slideshow": {
     "slide_type": "notes"
    }
   },
   "source": [
    "- nová skotská kniha funguje do dnes, i když od roku 1979 je skoro mrtvá\n",
    "- Jarník za vyřešení slibuje Plzeňské pivo\n",
    "- Lvovská skotská kniha - spíš turistická atrakce\n",
    "\n",
    "\n",
    "NEFORMÁLNÍ SPOLUPRÁCE MATEMATIKŮ JE DŮLEŽITÁ, VZNIKAJÍ A ŘEŠÍ SE ZAJÍMAVÉ PROBLÉMY. LVOVSKKÁ SKUPINA NEBYLA V HISTORII JEDINÁ, ALE I DÍKY SKOTSKÉ KNIZE JE NEZJZNÁMĚJŠÍ A TAKY BYLA VELMI PRODUKTIVNÍ. URČITĚ JE PŘÍNOSNÉ, KDYŽ SE VĚDCI NEPOTKÁVAJÍ JEN PŘI OFICIÁLNÍCH PŘÍLEŽITOSTECH, ALE DOKÁŽÍ SPOLU PRAVIDELNĚ SPOLUPRACOVAT I MIMO NĚ.\n",
    "\n",
    "- TŘÍBĚNÍ SI NÁZORŮ FORMOU DISKUZE\n",
    "- VŠICHNI JSME ZAŽILI SITUACI, KDY SE MOŘÍME S NĚJAKÝM PROBLÉMEM A PAK PŘI DISKUZI S NĚKÝM DALŠÍM SE TO NAJEDNOU SNADNO ROZLOUSKNE\n"
   ]
  },
  {
   "cell_type": "markdown",
   "metadata": {
    "slideshow": {
     "slide_type": "slide"
    }
   },
   "source": [
    "# Děkuji"
   ]
  },
  {
   "cell_type": "markdown",
   "metadata": {
    "slideshow": {
     "slide_type": "slide"
    }
   },
   "source": [
    "#### Literatura\n",
    "\n",
    "(1) Mathematics from the Scottish Café, with Selected Problems from the New Scottish Book, second edition Edited by R. Daniel Mauldin: BASEL: BIRKHÄUSER, 2015, XVIII+322 PP.\n",
    "\n",
    "(2) Wikipedia contributors. (2021, April 4). Scottish Book. In Wikipedia, The Free Encyclopedia. Retrieved 18:50, May 5, 2021, from https://en.wikipedia.org/w/index.php?title=Scottish_Book&oldid=1016001127\n",
    "\n",
    "(3) Maths, Madness and the Manhattan Project: the Eccentric Lives of Steinhaus, Banach and Ulam: Ania Legierska, (text based on Mariusz Urbanek's Genialni. Lwowska Szkoła Matematyczna) translator: MJ 02/12/2014: https://culture.pl/en/article/maths-madness-and-the-manhattan-project-the-eccentric-lives-of-steinhaus-banach-and-ulam\n",
    "\n",
    "(4) Wortal Stefana Banacha, Archiwalia, Emilia Jakimowicz a Adam Miranowicz, 2012  : http://kielich.amu.edu.pl/Stefan_Banach/archiwalia.html\n",
    "\n",
    "(5) Uniwersytet Wroclawski, Nowa Ksiega Szkocka : http://www.wmi.uni.wroc.pl/pl/New_Scottish_Book"
   ]
  }
 ],
 "metadata": {
  "celltoolbar": "Slideshow",
  "kernelspec": {
   "display_name": "Python 3",
   "language": "python",
   "name": "python3"
  },
  "language_info": {
   "codemirror_mode": {
    "name": "ipython",
    "version": 3
   },
   "file_extension": ".py",
   "mimetype": "text/x-python",
   "name": "python",
   "nbconvert_exporter": "python",
   "pygments_lexer": "ipython3",
   "version": "3.8.2"
  },
  "rise": {
   "transition": "fade"
  }
 },
 "nbformat": 4,
 "nbformat_minor": 4
}
