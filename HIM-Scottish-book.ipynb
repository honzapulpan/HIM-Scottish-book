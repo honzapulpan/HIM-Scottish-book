{
 "cells": [
  {
   "cell_type": "markdown",
   "metadata": {},
   "source": [
    "# Scottish book\n",
    "\n",
    "### Honza Půlpán"
   ]
  },
  {
   "cell_type": "markdown",
   "metadata": {},
   "source": [
    "Mezi dvěma světovými válkami se ve Lvově sešla skupina matematiků působící na místních dvou univerzitách - Lvovském Polytechnickém institutu a Univerzitě Jana Kazimierzkého. Tuto skupinu dnes známe jako Lvovská matematická škola. Zformovali ji hlavně tři muži - Stefan Banach, Stanislaw Ulam a Stanislaw Mazur. Tito pánové se pravidelně scházeli nejprve v Café Roma a později v Café Szkocka a společně řešili matematické problémy. Jejich hlavním objektem zájmu byla funkcionální analýza, která v tomto období a na tomto místě zaznamenala svůj největší posun. Po čase začali zaznamenávat tyto matematické problémy do sešitu, který v kavárně nechávali. A tak vznikla Scottish book. Toto ale není příběh jen Scottish book, ale celé Lvovské matematické školy a hlavně příběh o tom, jak spolupráce mezi matematiky vede k nádherným a pokrokovým výsledkům. I když je to příběh vlastně hodně smutný.\n",
    "\n",
    "Měli bychom si ale nejdříve říci něco o historických souvislostech, období a místě, kdy se náš příběh odehrává. Lvov byl již nějakou dobu před velkou válkou součástí Rakouska Uherska, oblasti známe jako Halič (Galicia) a jmenoval se Lemberg.  Rakousko  ovšem válku prohrálo a Halič se tak stává součástí Polska, Lembergse přejmenovává na Lwow. Zaznamená ještě poměrně krvavý, i když naštěstí krátký boj o ukrajinskou nezávislost, který Polsko potlačí. \n",
    "\n",
    "Náš příběh začíná ale o něco dříve a to v roce 1917 v Krakově. V této době potkává mladý profesor Hugo Steinhaus dva muže rozprávějící na lavičce v parku o Lebesquově integrálu. Jedním z nich je právě Stefan Banach, v kterém rozpoznává Steinhaus okamžitě nadaného matematika. Banach byl vždy poměrně excentrický člověk, odmítal například skládat jakékoliv zkoužky, i přesto se mu ale přesto i bez toho podařilo obhájit doktorát. Okamžitě spolu začínají spolupracovat. Později v roce 1919 oba změní působiště a ocitají se v té době na prestižním Polytechnické institutu ve Lvově.\n",
    "\n",
    "Banach se ve Lvově potkává s Ulamem a později i s Mazurem a stává se hlavou skupiny matematiků, jejichž hlavním zájmem je funkcionální analýza. Vždy v sobotu se schází matematická společnost na univerzitě a po těchto setkáních se přesouvají do Cafe Szkocka a řeší jednotlivé problémy. "
   ]
  },
  {
   "cell_type": "markdown",
   "metadata": {},
   "source": [
    "Jak byla Scottish book strukturovaná\n",
    "\n",
    "- nejprve píšou na mramorové stoly\n",
    "- později Banachova žena pořizuje notes\n",
    "- jaké typy problémů jsou ve Scottish book - jak jsou rozděleny\n",
    "- mezi jakými lety Scottish book vzniká\n",
    "- kromě naší trojice se na scottish book podílí i hosté - jací? Van Neumann ...\n",
    "- kolik problémů j ještě nevyřešených\n",
    "\n",
    "Ve Scottish je celkem 93 problémů, některé jsoudo dnes nevyřešené a matematici se s nimi dále zabývají. \n"
   ]
  },
  {
   "cell_type": "markdown",
   "metadata": {},
   "source": [
    "### Problém 42: Ulam\n",
    "\n",
    "Ke každé uzavřené, konvexní množině $X$, obsažené v kouli (sféře?) $K$ v Euklidovském prostoru, je spojitě (ve smyslu Hausdorffovy metriky) přiřazena jiná konvexní uzavřená množina $f(X)$ obsažená v $K$. Existuje pevný bod, tedy uzavřená, konvexní množina $X_0$ a platí $f(X_0) = X_0$?\n",
    "\n",
    "__Věta (Mazur)__:\\\n",
    "Necht $E$ j třída konvexních uzavřených množin, obsažených v kouli $K$ s vlastnostmi:\n",
    "\n",
    "1. Jestliže $A \\in E$, $B \\in E$, potom také $\\lambda A + (1-\\lambda)B \\in E$ pro $0 \\leq \\lambda \\geq 1$.\n",
    "2. Jestliže $A_n \\in E$ a posloupnost $\\left{ A_n \\right}$ konverguje k $A$, potom i $A \\in E$.\n",
    "\n",
    "Předpokládejme, že $f(x)$ je spojitá funkce v $E$, jejíž obor hodnot je v $E$. Potom existuje pevný bod, tedy $X_0 \\in E$ takové, že $f(X_0)=X_0$.\n",
    "\n",
    "Příkladem takové třídy $E$ jsou například všechny uzavřené, konvexní množiny obsažné v $K$ s poloměrem ne větším než dané číslo $\\phi > 0$.\n",
    "\n",
    "str. 115"
   ]
  },
  {
   "cell_type": "markdown",
   "metadata": {},
   "source": [
    "### Problém 54: Schauder\n",
    "\n",
    "Dnes známo jako Schauderova věta o pevném bodě a je základem spoustu dalších vět o pevném bodě.\n",
    "\n",
    "Něcht $H$ je konvexní, uzavřená a kompaktní množina. $U(x): H \\mapsto \\mathcal{M} \\subset H$ je spojité zobrazení zobrazující $H$ na podmožinu $H$. $H$ je podmnožinou prostoru typu $(F)$. Existuje pevný bod zobrazení $U(x)$?\n",
    "\n",
    "(b) Vyřešte stejný problém pro libovolný lineární topologický prostor nebo takový prostor, ve kterém existují libovolně malé konvexní okolí.\n",
    "\n",
    "Řešení:\n",
    "Na obě otázky v části (b) existuje řešení už delší dobu. První část problému byla ovšem dokázána až v roce 2005 R. Cautym (Rétractes absolus de voisinage algébriques, Serdica Math. J. 31 (2005), no. 4, 309–354) \n",
    "\n",
    "\n",
    "\n",
    "str.130\n"
   ]
  },
  {
   "cell_type": "markdown",
   "metadata": {},
   "source": [
    "- Ulam už v roce 1936? Lvov opouští a přesouvá se do USA. Do Lvova se ale vždy v létě vrací\n",
    "- poslední jeho návštěva je v létě 1939\n",
    "- poté se začátkem druhé světové války obsazují Lvov rusové\n",
    "- od té doby se ve Scottish book objevují i ruská jména\n",
    "- židovstí matematici (jména) utíkají, někteří jsou bohužel zabiti\n",
    "- Scottish book končí a během války je ukryta\n",
    "- Později Lvov obsazují na dlouhých X let němci. Banach se musí živit jako pokusný králík (popsat detaily)\n",
    "- těsně po konci války umírá na rakovinu (byl chain smoker)\n",
    "- Scottish book se ocitá v krakově, kam se matematici po opětovné zabrání Lvova a celé Ukrajiny rusy přesouvájí\n",
    "- později ji Steinhaus posílá do ameriky Ulamovi a ten ji v roce 195X poprvé publikuje v anglickém překladu.\n",
    "\n",
    "\n",
    "\n",
    "V Polsku po válce vzniká i Nová Scottish book, ale to je již jiný příběh, s částečně jiným obsazením. V součastnosti je v zrekontruovaném Scottish Cafe (je to dnes hotel) Lvovská Scottish book, kam návštěvníci mohou psát další matematické problémy. Tu si můžeme prohlídnout na internetu.\n",
    "\n",
    "Příběh Scottish book je jediněčný v tom, že ukazuje jak důležitá je spolupráce mezi matematiky. Takových skupin bylo v historii docela dost, ale ta Lvovská je asi nejznámější i právě díky Scottish book."
   ]
  },
  {
   "cell_type": "markdown",
   "metadata": {},
   "source": [
    "#### Literatura\n",
    "\n",
    "(1) Scottish book\\\n",
    "(2) Wikipedie"
   ]
  },
  {
   "cell_type": "code",
   "execution_count": null,
   "metadata": {},
   "outputs": [],
   "source": []
  }
 ],
 "metadata": {
  "kernelspec": {
   "display_name": "Python 3",
   "language": "python",
   "name": "python3"
  },
  "language_info": {
   "codemirror_mode": {
    "name": "ipython",
    "version": 3
   },
   "file_extension": ".py",
   "mimetype": "text/x-python",
   "name": "python",
   "nbconvert_exporter": "python",
   "pygments_lexer": "ipython3",
   "version": "3.9.2+"
  },
  "latex_envs": {
   "LaTeX_envs_menu_present": true,
   "autoclose": true,
   "autocomplete": true,
   "bibliofile": "biblio.bib",
   "cite_by": "apalike",
   "current_citInitial": 1,
   "eqLabelWithNumbers": true,
   "eqNumInitial": 1,
   "hotkeys": {
    "equation": "Ctrl-E",
    "itemize": "Ctrl-I"
   },
   "labels_anchors": false,
   "latex_user_defs": false,
   "report_style_numbering": false,
   "user_envs_cfg": false
  },
  "varInspector": {
   "cols": {
    "lenName": 16,
    "lenType": 16,
    "lenVar": 40
   },
   "kernels_config": {
    "python": {
     "delete_cmd_postfix": "",
     "delete_cmd_prefix": "del ",
     "library": "var_list.py",
     "varRefreshCmd": "print(var_dic_list())"
    },
    "r": {
     "delete_cmd_postfix": ") ",
     "delete_cmd_prefix": "rm(",
     "library": "var_list.r",
     "varRefreshCmd": "cat(var_dic_list()) "
    }
   },
   "types_to_exclude": [
    "module",
    "function",
    "builtin_function_or_method",
    "instance",
    "_Feature"
   ],
   "window_display": false
  }
 },
 "nbformat": 4,
 "nbformat_minor": 2
}
