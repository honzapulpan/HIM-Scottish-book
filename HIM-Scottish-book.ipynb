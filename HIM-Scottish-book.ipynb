{
 "cells": [
  {
   "cell_type": "markdown",
   "metadata": {},
   "source": [
    "![Skotská kniha](titulek.jpg)"
   ]
  },
  {
   "cell_type": "markdown",
   "metadata": {},
   "source": [
    "# <center>Příběh Skotské knihy</center>\n",
    "\n",
    "\n",
    "<center><b>semestrální práce KMA/HIM</b></center>\n",
    "<center><b>Honza Půlpán</b></center>\n",
    "<br><br><br><br>"
   ]
  },
  {
   "cell_type": "markdown",
   "metadata": {},
   "source": [
    "Mezi dvěma světovými válkami se ve Lvově sešla skupina matematiků působící na dvou místních vysokých školách - Lvovském Polytechnickém institutu a Univerzitě Jana Kazimierzkého. Tuto skupinu dnes známe pod jménem Lvovská matematická škola. Zformovali ji hlavně tři polští matematici - Stefan Banach, Stanislaw Ulam a Stanislaw Mazur. Spolu s dalšími kolegy, např. Hugo Steinhausem, Juliuszem Schauderem, Markem Kacem, Kazimierzem Kuratowskim a dalšími se pravidelně scházeli nejprve v Café Roma a později v Café Szkocka a společně probírali otevřené matematické problémy. Po čase začali zaznamenávat tyto problémy do sešitu, který v kavárně nechávali. A tak vznikla Skotská kniha. Toto ale není příběh jen Skotské knihy, ale celé Lvovské matematické školy a hlavně příběh o tom, jak spolupráce mezi matematiky vede k zajímavým výsledkům. I když je to příběh vlastně hodně smutný.\n",
    "\n",
    "![Café Szkocka](dawny_plac_akademicki_fot_wolne_zadoby_zrodlo_lvivcenter.jpg)\n",
    "<center><i>Obr. 1: Café Szkocka v dobách Skotské knihy</i></center>"
   ]
  },
  {
   "cell_type": "markdown",
   "metadata": {},
   "source": [
    "## Lvov mezi dvěma válkami\n",
    "\n",
    "Měli bychom si ale nejdříve říci něco o historických souvislostech, období a místě, kdy se náš příběh odehrává. Lvov byl již nějakou dobu před Velkou válkou součástí Rakouska-Uherska, oblasti známe jako Halič (Galicia) a jmenoval se Lemberg.  Rakousko  ovšem válku prohrálo a Halič se tak stává součástí Polska, Lemberg se přejmenovává na Lwow. Zaznamená ještě poměrně krvavý, i když naštěstí krátký boj o ukrajinskou nezávislost, který Polsko potlačí. \n",
    "\n",
    "Náš příběh začíná ale o něco dříve a to v roce 1917 v Krakově. V této době potkává mladý profesor Hugo Steinhaus dva muže rozprávějící na lavičce v parku o Lebesguově integrálu. Jedním z nich je právě Stefan Banach, v kterém Steinhaus rychle rozpoznává nadaného matematika. Banach byl vždy poměrně excentrický člověk, odmítal například skládat jakékoliv zkoužky, přesto se mu i bez toho podařilo obhájit doktorát. Možná i proto se Steinhausovi zalíbí a začínají spolu okamžitě spolupracovat. Později v roce 1919 oba změní působiště a ocitají se v té době na prestižním Polytechnické institutu ve Lvově.\n",
    "\n",
    "![Sjezd matematiků ve Lvově 1930](matematicky_sjezd_1930.png)\n",
    "<center><i>Obr. 2: Sjezd matematiků ve Lvově 1930</i></center>\n",
    "\n",
    "Banach se ve Lvově potkává s Ulamem a později i s Mazurem, který je jeho žákem, a stává se hlavou skupiny matematiků, jejichž hlavním zájmem je funkcionální a reálná analýza. Vždy v sobotu se schází matematická společnost na univerzitě a po těchto setkáních se většina zúčastněných přesouvá do Café Szkocka a kromě popíjení, diskuzí a hraní šachů řeší otevřené matematické problémy. Poznámky, úvahy a důkazy píší nejprve přímo na mramorové desky stolů a tak jsou vždy po jejich odchodu zničeny. Později jim Banachova žena Lucja pořídí velký sešit kam začnou jednotlivé problémy a třeba i jejich řešení zaznamenávat."
   ]
  },
  {
   "cell_type": "markdown",
   "metadata": {},
   "source": [
    "## Skotská kniha\n",
    "\n",
    "Do Skotské knihy (polsky Ksiega Szkocka), jak začnou sešitu schovaném u personálu kavárny říkat, zapíše první problém Stefan Banach 17. července 1935 a týká se Banachových prostorů (jak jim dnes říkáme). Poslední 193. problém zapsal Hugo Steinhaus 31. května 1941 a je jím pravděpodobnostní úloha inspirovaná Banachem a jeho zvykem kouřit jednu cigaretu za druhou. Dnes je problém znám jako \"Banach matchbox problem\".\n",
    "\n",
    "Většinu problémů zapisuje trojice Banach, Ulam, Mazur, ale objevují se i známá jména jako Fréchet, Schauder, Sobolew, nebo von Neumann kteří jsou ve Lvově na návštěve a samozřejmě i spousta dalších kolegů z obou Lvovských vysokých škol.\n",
    "\n",
    "Ve Skotské knize je celkem 193 problémů. Některé jsou dodnes nevyřešené a matematici se jimi dále zabývají. Podle vydání Skotské knihy z roku 2015 je stále nevyřešeno až 43 problémů. Problémy v knize nemají žádné speciální uspořádání a zapisovaly se do ní jak přicházely osazenstvu kavárny na mysl. \n",
    "\n",
    "Ve Skotské knize jsou popsány problémy z teorie grup, topologie, teorie míry, teorie množin nebo pravděpodobnosti. Asi nejvíce je ale problémů týkajících se v Polsku a speciálně ve Lvově vznikající a rozvíjející se funkcionální analýzy a funkčních prostorů. Celou skupinu zajímaly jak jim dnes říkáme Banachovy prostory (sám Banach je nazývá prostory typu B). Ty popisují prostory, které jsou si velmi podobné vlastnostmi, ale už mnohem méně jsou si podobné svými prvky. Banachovým prostorem jsou tak např. reálná čísla $\\mathbb{R}$, prostor všech konvergentních řad $l^2$, prostor všech Lebegueovsky integrovatelných funkcí $L^2$, nebo také prostor všech slabých řešení Dirichletovy úlohy, tedy Sobolevovovy prostory $W_0^{1,2}$. \n",
    "\n",
    "Abychom si dokázali definovat Banachovy prostory, potřebujeme nejprve definici cauchyovské posloupnosti.\n",
    "\n",
    "_Definice_: V metrickém prostoru $X$ s metrikou $d$ je posloupnost $(x_1, x_2, \\ldots)$ __cauchyovská__, pokud pro každou libovolně malou vzdálenost platí, že od jistého bodu jsou všechny členy posloupnosti k sobě blíže než je tato vzdálenost. \n",
    "\\begin{equation}\n",
    "\\forall \\epsilon > 0 \\; \\exists! n_0 \\in \\mathbb{N} \\; \\forall n,m \\in \\mathbb{N}: n > n_0 \\land m > n_0 \\implies d(x_n, x_m) < \\epsilon\n",
    "\\end{equation}\n",
    "\n",
    "Definice Banachova prostoru je pak následující.\n",
    "\n",
    "_Definice_: __Banachovým prostorem__ rozumíme úplný normovaný lineární prostor. Tedy takový lineární prostor $X$ nad tělesem reálných nebo komplexních čísel s normou $\\Vert \\cdot \\Vert$, ve kterém je každá cauchyovská posloupnost konvergentní, tedy v indukované metrice $d(x_n, x_m) = \\Vert x_n - x_m \\Vert$ má limitu.\n",
    "\n",
    "Naší skupinu zajímají speciálně ty problémy, které pracují s kompaktnostní, nebo spíše nekompaktností. Proto si uveďme ještě třetí definici.\n",
    "\n",
    "_Definice_: Množina $\\mathcal{M}$ metrického prostoru $X$ se nazývá __kompaktní__, pokud z každé posloupnosti $\\{ x_n \\}_{n=1}^{\\infty},\\, x_n \\in X$ lze vybrat konvergentní podposloupnost. \n",
    "\n",
    "Mnoho problémů ve Skotské knize se zabývá také aproximacemi, redukcí něčeho nekonečného na konečnou strukturu. Na ukázku si uveďme tři problémy ze Skotské knihy. Prvním je hned první zápis, provedený Banachem 17. července 1935.\n"
   ]
  },
  {
   "cell_type": "markdown",
   "metadata": {},
   "source": [
    "### Problém 1: Banach\n",
    "\n",
    "(a) Jestliže bude metrický prostor [respektive prostor typu (B)] metrizován tak, že se stane úplným a kompaktním, budou všechny posloupnosti konvergující v původním prostoru konvergovat i v nové metrice?\n",
    "\n",
    "(b) Můž být metrizován například prostor $[c_0]$ (prostor všech posloupností konvergujících k $0$) ?\n",
    "\n",
    "__Komentář:__\n",
    "Na otázka (a) neexistuje dodnes uspokojivá odpověd. Odpověd na otázku (b) je ano.\n",
    "\n",
    "![Problém 1: Banach](problem_1.jpg)\n",
    "<center><i>Obr 3: Problém 1 ve Skotské knize zapsaný Banachem</i></center>"
   ]
  },
  {
   "cell_type": "markdown",
   "metadata": {},
   "source": [
    "\n",
    "Náledující dva problémy se týkají teorie pevného bodu zobrazení $f$, tedy takového prvku nějaké množiny, jež se zobrazí sám na sebe a platí $f(x) = x$. Tento zdánlivě snadný problém, diskutovaný na mnoha místech ve Skotské knize, pomohl v následujících letech k publikaci velkého množství dalších matematických vět a výsledků a našel spoustu aplikací speciálně v teorii parciálních diferenciálních rovnic.\n"
   ]
  },
  {
   "cell_type": "markdown",
   "metadata": {},
   "source": [
    "### Problém 42: Ulam\n",
    "\n",
    "Ke každé uzavřené, konvexní množině $X$, obsažené v uzavřené kouli $K$ v Euklidovském prostoru, je spojitě (ve smyslu Hausdorffovy metriky) přiřazena konvexní uzavřená množina $f(X)$ obsažená v $K$. Existuje pevný bod, tedy uzavřená, konvexní množina $X_0$ a platí $f(X_0) = X_0?$\n",
    "\n",
    "__Věta (Mazur)__: Nechť $E$ je třída konvexních, uzavřených množin obsažených v kouli $K$ s vlastnostmi:\n",
    "\n",
    "1. Jestliže $A \\in E$, $B \\in E$, potom také $\\lambda A + (1-\\lambda)B \\in E$ pro $0 \\leq \\lambda \\geq 1$.\n",
    "2. Jestliže $A_n \\in E$ a posloupnost $\\{A_n\\}_{n=1}^{+\\infty}$ konverguje k $A$, potom i $A \\in E$.\n",
    "\n",
    "Předpokládejme, že $f(x)$ je spojitá funkce v $E$, jejíž obor hodnot je v $E$. Potom existuje pevný bod, tedy $X_0 \\in E$ takové, že $f(X_0)=X_0$.\n",
    "\n",
    "Příkladem takové třídy $E$ jsou například všechny uzavřené, konvexní množiny obsažené v $K$ s poloměrem ne větším než dané číslo $\\phi > 0$.\n",
    "\n",
    "__Komentář:__ Problém 42 je vyřešen a představit si to můžeme třeba následujícím způsobem. Existuje kanonické vnoření množiny všech neprázdných, konvexních a kompaktních podmožin lineárního prostoru do jiného lineárního prostoru. Jestliže je první prostor normovaný, je i ten druhý. Vnoření pak zachovává konvexní kombinace. V rámci problému 42 bude obrazem tohoto vnoření kompaktní a konvexní podmnožina normovaného prostoru a existence pevného bodu tak plyne z Schauderovy věty o pevném bodě, které se týká následující problém 54.\n",
    "\n",
    "![Problém 42: Ulam](problem_42.jpg)\n",
    "<center><i>Obr 4: Problém 42 ve Skotské knize</i></center>"
   ]
  },
  {
   "cell_type": "markdown",
   "metadata": {},
   "source": [
    "Následující problém dnes známe jako Schauderovu větu o pevném bodě a je základem pro spoustu dalších vět o pevném bodě.\n",
    "### Problém 54: Schauder\n",
    "\n",
    "\n",
    "\n",
    "(a) Něcht $H$ je konvexní, uzavřená a kompaktní množina. $U(x): H \\mapsto \\mathcal{M} \\subset H$ je spojité zobrazení zobrazující $H$ na podmožinu $\\mathcal{M}$. $H$ je podmnožinou prostoru typu $(F)$. Existuje pevný bod zobrazení $U(x)$?\n",
    "\n",
    "(b) Vyřešte stejný problém pro libovolný lineární topologický prostor nebo takový prostor, ve kterém existují libovolně malé konvexní okolí.\n",
    "\n",
    "__Komentář:__\n",
    "Na obě otázky v části (b) existuje řešení už delší dobu. První část problému byla ovšem dokázána až v roce 2005 R. Cautym (Rétractes absolus de voisinage algébriques, Serdica Math. J. 31 (2005), no. 4, 309–354) \n",
    "\n",
    "![Problém 54: Schauder](problem_54.jpg)\n",
    "<center><i>Obr 5: Problém 54 ve Skotské knize</i></center>"
   ]
  },
  {
   "cell_type": "markdown",
   "metadata": {},
   "source": [
    "## Druhá světová válka a další vývoj\n",
    "Už v roce 1936 se Ulam na pozvání von Neumanna přesouvá do USA a do Lvova se vrací vždy jen v létě. Se začátkem druhé světové války vtrhnou do Lvova nejprve Rusové, později Němci a následně opět Rusové. Část matematiků z Lvovské školy utíká, nebo se skrývá, hlavně ti s židovským původem. Po napadení Polska Sovětským svazem v září 1939 přibývá ve Skotské knize i zápisů v ruštině od ruských matematiků, např. Bogolubowa, Lusternika nebo Sobolewa. V roce 1941 kdy Lvov okupují Němci už schůzky v Café Szkocka končí a  Banach knihu ukrývá u sebe. Během německé okupace se musí živit jako \"krmič vší\" při výzkumu vakcíny na tyfus. Krátce po válce pak umírá na rakovinu. Jeho syn Skotskou po válce knihu objeví a předá ji v Polsku Steinhausovi.\n",
    "\n",
    "V roce 1956 posílá Steinhaus strojový přepis Skotské knihy Ulamovi do Alama, USA. Ten ji přeloží do angličtiny a nejprve rozesílá 300 kopií jen svým známým akademikům, v roce 1977 ji pak vydává i knižně.\n",
    "\n",
    "Po válce a německé okupaci nastává další okupace. Lvov se stává součástí Ukrajinské sovětské socialistické republiky v područí Sovětského svazu. Většina matematiků se tak přesouvá do Vratislavy (Wroclaw), města které po německé okupaci opět patří Polsku. Rekonstruuje se prakticky úplně zničená Vratislavská Univerzita a matematici ze Lvova zakládají novou Polytechnickou vysokou školu. 2. července 1946 Hugo Steinhaus, který vytvořil poslední záznam ve Skotské knize, zaznamenává i první problém do Nové Skotské knihy, která je ve Vratislavy dodnes, i když nových záznamů v ní po roce 1979 už moc není. V roce 1946 do Nové Skotské knihy přispívá i Václav Jarník, významný matematik z pražského Matfyzu. Ten svůj problém popisuje francouzsky a jako cenu za vyřešení nabízí poměrně hodně Plzeňského piva.\n",
    "\n",
    "![Nová Skotská kniha - Václav Jarník](jarnik.jpg)\n",
    "<center><i>Obr.6: Zápis v Nové Skotské knize od Václava Jarníka</i></center>\n",
    "\n",
    "V součastnosti je v zrekontruovaném Café Szkocka hotel, restaurace a bar. U personálu je uložena Lvovská Skotská kniha, kam návštěvníci mohou psát další matematické problémy. Ta je však už píš turistickou atrakcí, i když matematické problémy se tam také objevují.\n",
    "\n",
    "Příběh Skotské knihy je jediněčný v tom, že ukazuje jak důležitá a plodná může být pravidelná spolupráce mezi matematiky z různých oborů. Takových skupin bylo v historii více, ale ta Lvovská je asi nejznámější i právě díky Skotské knize a hlavně kvůli matematickým výsledkům, které publikovali její přispěvatelé, nebo které byly Skotskou knihou přímo ovlivněny."
   ]
  },
  {
   "cell_type": "markdown",
   "metadata": {},
   "source": [
    "#### Literatura\n",
    "\n",
    "(1) Mathematics from the Scottish Café, with Selected Problems from the New Scottish Book, second edition Edited by R. Daniel Mauldin: BASEL: BIRKHÄUSER, 2015, XVIII+322 PP.\n",
    "\n",
    "(2) Wikipedia contributors. (2021, April 4). Scottish Book. In Wikipedia, The Free Encyclopedia. Retrieved 18:50, May 5, 2021, from https://en.wikipedia.org/w/index.php?title=Scottish_Book&oldid=1016001127\n",
    "\n",
    "(3) Maths, Madness and the Manhattan Project: the Eccentric Lives of Steinhaus, Banach and Ulam: Ania Legierska, (text based on Mariusz Urbanek's Genialni. Lwowska Szkoła Matematyczna) translator: MJ 02/12/2014: https://culture.pl/en/article/maths-madness-and-the-manhattan-project-the-eccentric-lives-of-steinhaus-banach-and-ulam\n",
    "\n",
    "(4) Wortal Stefana Banacha, Archiwalia, Emilia Jakimowicz a Adam Miranowicz, 2012  : http://kielich.amu.edu.pl/Stefan_Banach/archiwalia.html\n",
    "\n",
    "(5) Uniwersytet Wroclawski, Nowa Ksiega Szkocka : http://www.wmi.uni.wroc.pl/pl/New_Scottish_Book"
   ]
  },
  {
   "cell_type": "code",
   "execution_count": null,
   "metadata": {},
   "outputs": [],
   "source": []
  }
 ],
 "metadata": {
  "kernelspec": {
   "display_name": "Python 3",
   "language": "python",
   "name": "python3"
  },
  "language_info": {
   "codemirror_mode": {
    "name": "ipython",
    "version": 3
   },
   "file_extension": ".py",
   "mimetype": "text/x-python",
   "name": "python",
   "nbconvert_exporter": "python",
   "pygments_lexer": "ipython3",
   "version": "3.8.2"
  },
  "latex_envs": {
   "LaTeX_envs_menu_present": true,
   "autoclose": true,
   "autocomplete": true,
   "bibliofile": "biblio.bib",
   "cite_by": "apalike",
   "current_citInitial": 1,
   "eqLabelWithNumbers": true,
   "eqNumInitial": 1,
   "hotkeys": {
    "equation": "Ctrl-E",
    "itemize": "Ctrl-I"
   },
   "labels_anchors": false,
   "latex_user_defs": false,
   "report_style_numbering": false,
   "user_envs_cfg": false
  },
  "varInspector": {
   "cols": {
    "lenName": 16,
    "lenType": 16,
    "lenVar": 40
   },
   "kernels_config": {
    "python": {
     "delete_cmd_postfix": "",
     "delete_cmd_prefix": "del ",
     "library": "var_list.py",
     "varRefreshCmd": "print(var_dic_list())"
    },
    "r": {
     "delete_cmd_postfix": ") ",
     "delete_cmd_prefix": "rm(",
     "library": "var_list.r",
     "varRefreshCmd": "cat(var_dic_list()) "
    }
   },
   "types_to_exclude": [
    "module",
    "function",
    "builtin_function_or_method",
    "instance",
    "_Feature"
   ],
   "window_display": false
  }
 },
 "nbformat": 4,
 "nbformat_minor": 4
}
