{
 "cells": [
  {
   "cell_type": "markdown",
   "metadata": {},
   "source": [
    "![Skotská kniha](titulek.jpg)"
   ]
  },
  {
   "cell_type": "markdown",
   "metadata": {},
   "source": [
    "# Příběh Skotské knihy\n",
    "\n",
    "### Honza Půlpán"
   ]
  },
  {
   "cell_type": "markdown",
   "metadata": {},
   "source": [
    "Mezi dvěma světovými válkami se ve Lvově sešla skupina matematiků působící na dvou místních vysokých školách - Lvovském Polytechnickém institutu a Univerzitě Jana Kazimierzkého. Tuto skupinu dnes známe pod jménem Lvovská matematická škola. Zformovali ji tři polští matematici - Stefan Banach, Stanislaw Ulam a Stanislaw Mazur. Tito pánové se pravidelně scházeli nejprve v Café Roma a později v Café Szkocka a společně řešili matematické problémy. Po čase začali zaznamenávat tyto problémy do sešitu, který v kavárně nechávali. A tak vznikla Skotská kniha. Toto ale není příběh jen Skotské knihy, ale celé Lvovské matematické školy a hlavně příběh o tom, jak spolupráce mezi matematiky vede k zajímavým výsledkům. I když je to příběh vlastně hodně smutný.\n",
    "\n",
    "![Café Szkocka](dawny_plac_akademicki_fot_wolne_zadoby_zrodlo_lvivcenter.jpg)\n",
    "_Obr. 1: Café Szkocka v dobách Skotské knihy_"
   ]
  },
  {
   "cell_type": "markdown",
   "metadata": {},
   "source": [
    "## Lvov mezi dvěma válkami\n",
    "\n",
    "Měli bychom si ale nejdříve říci něco o historických souvislostech, období a místě, kdy se náš příběh odehrává. Lvov byl již nějakou dobu před Velkou válkou součástí Rakouska Uherska, oblasti známe jako Halič (Galicia) a jmenoval se Lemberg.  Rakousko  ovšem válku prohrálo a Halič se tak stává součástí Polska, Lemberg se přejmenovává na Lwow. Zaznamená ještě poměrně krvavý, i když naštěstí krátký boj o ukrajinskou nezávislost, který Polsko potlačí. \n",
    "\n",
    "Náš příběh začíná ale o něco dříve a to v roce 1917 v Krakově. V této době potkává mladý profesor Hugo Steinhaus dva muže rozprávějící na lavičce v parku o Lebesguově integrálu. Jedním z nich je právě Stefan Banach, v kterém rozpoznává Steinhaus okamžitě nadaného matematika. Banach byl vždy poměrně excentrický člověk, odmítal například skládat jakékoliv zkoužky, přesto se mu i bez toho podařilo obhájit doktorát. Možná i proto se Steinhausovi zalíbí a začínají spolu okamžitě spolupracovat. Později v roce 1919 oba změní působiště a ocitají se v té době na prestižním Polytechnické institutu ve Lvově.\n",
    "\n",
    "![Sjezd matematiků ve Lvově 1930](matematicky_sjezd_1930.png)\n",
    "_Obr. 2: Sjezd matematiků ve Lvově 1930_\n",
    "\n",
    "Banach se ve Lvově potkává s Ulamem a později i s Mazurem a stává se hlavou skupiny matematiků, jejichž hlavním zájmem je funkcionální a reálná analýza. Vždy v sobotu se schází matematická společnost na univerzitě a po těchto setkáních se přesouvají do Cafe Szkocka a řeší jednotlivé problémy. Poznámky, úvahy a důkazy píší nejprve přímo na mramorové desky stolů a tak jsou vždy po jejich odchodu zničeny. Později jim Banachova žena Lucja pořídí velký sešit kam začnou jednotlivé problémy a třeba i jejich řešení zaznamenávat."
   ]
  },
  {
   "cell_type": "markdown",
   "metadata": {},
   "source": [
    "## Skotská kniha\n",
    "\n",
    "Do Skotské knihy (polsky Ksiega Szkocka), jak začnou sešitu schovaném u personálu kavárny říkat, zapíše první problém Stefan Banach 17. července 1935 a týká se Banachových prostorů (jak jim dnes říkáme). Poslední 193. problém zapsal Hugo Steinhaus 31. května 1941 a je jím pravděpodobnostní úloha inspirovaná Banachem a jeho zvykem kouřit jednu cigaretu za druhou. Dnes je problém znám jako \"Banach matchbox problem\".\n",
    "\n",
    "Většinu problémů zapisuje trojice Banach, Ulam, Mazur, ale objevují se i známá jména jako Fréchet, Schauder, Sobolew, nebo von Neumann kteří jsou ve Lvově na návštěve a samozřejmě i spousta dalších kolegů z obou Lvovských vysokých škol.\n",
    "\n",
    "Ve Skotské knize je celkem 193 problémů. Některé jsou do dnes nevyřešené a matematici se s nimi dále zabývají. Podle vydání z roku 2015 je stale nevyřešeno až 43 problémů. Problémy ve Skotské knize nemají žádné uspořádání a zapisovaly se do ní jak přicházely osazenstvu kavárny na mysl. \n",
    "\n",
    "Ve Skotské knize jsou popsány problémy z teorie grup, topologie, teorie míry, teorie množin nebo pravděpodobnosti. Asi nejvíce je ale problémů týkajících se v Polsku a speciálně ve Lvově vznikající a rozvíjející se funkcionální analýzy a funkčních prostorů. Celou skupinu zajímaly jak jim dnes říkáme Banachovy prostory (sám Banach je nazývá prostory typu B). Ty popisují prostory které jsou si velmi podobné vlastnostmi, ale už mnohem méně jsou si podobné svými prvky. Banachovým prostorem jsou jsou tak např. reálná čísla $\\mathbb{R}$, prostor všech konvergentních řad $l^2$, prostor všech Lebegueovsky integrovatelných funkcí $L^2$, nebo také prostor všech slabých řešení Dirichletovy úlohy, tedy Sobolevovovy prostory $W_0^{1,2}$. Naší skupinu zajímají speciálně ty problémy, které pracují s kompaktnostní, nebo píše nekompaktností. Mnoho problémů ve Skotské knize se zabývá také aproximacemi, redukcí něčeho nekonečného, na konečnou strukturu.\n",
    "\n",
    "Na ukázku si uvedme tři problémy ze Skotské knihy. Prvním je hned první zápis, provedený Banachem 17. července 1935.\n"
   ]
  },
  {
   "cell_type": "markdown",
   "metadata": {},
   "source": [
    "### Problém 1: Banach\n",
    "\n",
    "(a) Jestliže bude metrický prostor [eventuálně prostor typu (B)] metrizován tak, že se stane úplným a kompaktním, budou všechny posloupnosti konvergující originálně konvergovat i v nové metrice?\n",
    "\n",
    "(b) Můž být metrizován například prostor $[c_0]$?\n",
    "\n",
    "__Komentář:__\\\n",
    "Na otázka (a) neexistuje dodnes uspokojivá odpověd. Odpověd na otázku (b) je ano.\n",
    "\n",
    "![Problém 1: Banach](problem_1.jpg)\n",
    "_Obr 3: Problém 1 ve Skotské knize zapsaný Banachem_"
   ]
  },
  {
   "cell_type": "markdown",
   "metadata": {},
   "source": [
    "\n",
    "Náledující dva problémy se týkají teorie pevného bodu zobrazení $f$, tedy takového prvku nějaké množiny jež se zobrazí sám na sebe a platí $f(x) = x$. Tento zdánlivě snadný problém, diskutovaný na mnoha místech ve Skotské knize, pomohl v následujících letech k publikaci velkého množství dalších matematických vět a výsledků a našel spoustu aplikací speciálně v teorii parciálních diferenciálních rovnic.\n"
   ]
  },
  {
   "cell_type": "markdown",
   "metadata": {},
   "source": [
    "### Problém 42: Ulam\n",
    "\n",
    "Ke každé uzavřené, konvexní množině $X$, obsažené v kouli (sféře?) $K$ v Euklidovském prostoru, je spojitě (ve smyslu Hausdorffovy metriky) přiřazena jiná konvexní uzavřená množina $f(X)$ obsažená v $K$. Existuje pevný bod, tedy uzavřená, konvexní množina $X_0$ a platí $f(X_0) = X_0$?\n",
    "\n",
    "__Věta (Mazur)__:\\\n",
    "Necht $E$ je třída konvexních uzavřených množin, obsažených v kouli $K$ s vlastnostmi:\n",
    "\n",
    "1. Jestliže $A \\in E$, $B \\in E$, potom také $\\lambda A + (1-\\lambda)B \\in E$ pro $0 \\leq \\lambda \\geq 1$.\n",
    "2. Jestliže $A_n \\in E$ a posloupnost $\\{A_n\\}_{n=1}^{+\\infty}$ konverguje k $A$, potom i $A \\in E$.\n",
    "\n",
    "Předpokládejme, že $f(x)$ je spojitá funkce v $E$, jejíž obor hodnot je v $E$. Potom existuje pevný bod, tedy $X_0 \\in E$ takové, že $f(X_0)=X_0$.\n",
    "\n",
    "Příkladem takové třídy $E$ jsou například všechny uzavřené, konvexní množiny obsažné v $K$ s poloměrem ne větším než dané číslo $\\phi > 0$.\n",
    "\n",
    "![Problém 42: Ulam](problem_42.jpg)\n",
    "_Obr 4: Problém 42 ve Skotské knize_"
   ]
  },
  {
   "cell_type": "markdown",
   "metadata": {},
   "source": [
    "### Problém 54: Schauder\n",
    "\n",
    "Dnes známo jako Schauderova věta o pevném bodě a je základem spoustu dalších vět o pevném bodě.\n",
    "\n",
    "(a) Něcht $H$ je konvexní, uzavřená a kompaktní množina. $U(x): H \\mapsto \\mathcal{M} \\subset H$ je spojité zobrazení zobrazující $H$ na podmožinu $\\mathcal{M}$. $H$ je podmnožinou prostoru typu $(F)$. Existuje pevný bod zobrazení $U(x)$?\n",
    "\n",
    "(b) Vyřešte stejný problém pro libovolný lineární topologický prostor nebo takový prostor, ve kterém existují libovolně malé konvexní okolí.\n",
    "\n",
    "__Komentář:__\\\n",
    "Na obě otázky v části (b) existuje řešení už delší dobu. První část problému byla ovšem dokázána až v roce 2005 R. Cautym (Rétractes absolus de voisinage algébriques, Serdica Math. J. 31 (2005), no. 4, 309–354) \n",
    "\n",
    "![Problém 54: Schauder](problem_54.jpg)\n",
    "_Obr 5: Problém 54 ve Skotské knize_"
   ]
  },
  {
   "cell_type": "markdown",
   "metadata": {},
   "source": [
    "## Druhá světová válka a další vývoj\n",
    "Už v roce 1936 se Ulam přesouvá do USA a do Lvova se vrací vždy jen v létě. Se začátkem druhé světové války přijdou do Lvova nejprve rusové, později němci a následně opět rusové. Část matematiků z Lvovské školy utíká, nebo se skrývá, speciálně ti s židovským původem. Po napadení Polska Sovětským svazem v září 1939 přibývá ve Skotské knize i zápisů v ruštině od ruských matematiků. V roce 1941 kdy Lvov okupují němci už schůzky v Café Szkocka končí a  Banach knihu ukrývá u sebe. Během německé okupace se musí živit jako \"krmič vší\" při výzkumu vakcíny na tyfus. Krátce po válce pak umírá na rakovinu. Jeho syn Skotskou knihu objeví a předá ji v Polsku Steinhausovi.\n",
    "\n",
    "V roce 1956 posílá Steinhaus Skotskou knihu Ulamovi do Alama, USA. Ten ji přeloží do angličtiny a nejprve rozesílá na přání jen známým akademikům, v roce 1977 ji pak vydává knižně.\n",
    "\n",
    "Po válce a německé okupaci nastavá další okupace. Lvov se stává součástí Ukrajinské svazové republiky v rámci Sovětského svazu. Většina matematiků se tak přesouvá do Vratislavy (Wroclaw), města které po německé okupaci opět patří Polsku. Rekonstruuje se prakticky úplně zničená Vratislavská Univerzita a matematici ze Lvova zakládají novou Politechnickou vysokou školu. 2. července 1946 Hugo Steinhaus, který vytvořil poslední záznam ve Skotské knize, zaznamenává i první problém do Nové Skotské knihy, která je ve Vratislavy dodnes, i když nových záznamů v ní po roce 1979 už moc není. Už v roce 1946 do Nové Skotské knihy přispívá i Václav Jarník, významný matematik z pražského Matfyzu. Ten svůj problém popisuje francouzsky a jako cenu za vyřešení nabízí poměrně hodně Plzenského piva.\n",
    "\n",
    "![Nová Skotská kniha - Václav Jarník](jarnik.jpg)\n",
    "_Obr.6: Zápis v Nové Skotské knize od Václava Jarníka_\n",
    "\n",
    "V součastnosti je v zrekontruovaném Scottish Cafe (je to dnes hotel) Lvovská Skotská kniha, kam návštěvníci mohou psát další matematické problémy. Tu si můžeme prohlídnout na internetu.\n",
    "\n",
    "Příběh Skotské knihy je jediněčný v tom, že ukazuje jak důležitá je spolupráce mezi matematiky. Takových skupin bylo v historii docela dost, ale ta Lvovská je asi nejznámější i právě díky Scottish book."
   ]
  },
  {
   "cell_type": "markdown",
   "metadata": {},
   "source": [
    "#### Literatura\n",
    "\n",
    "(1) The Scottish Book: Mathematics from The Scottish Caf, with Selected Problems from The New Scottish Book - November 2015\\\n",
    "(2) Wikipedie\\\n",
    "(3) Obrázky: https://culture.pl/en/article/maths-madness-and-the-manhattan-project-the-eccentric-lives-of-steinhaus-banach-and-ulam\n",
    "(4) Nová Skotská kniha: http://www.wmi.uni.wroc.pl/pl/New_Scottish_Book"
   ]
  },
  {
   "cell_type": "code",
   "execution_count": null,
   "metadata": {},
   "outputs": [],
   "source": []
  }
 ],
 "metadata": {
  "kernelspec": {
   "display_name": "Python 3",
   "language": "python",
   "name": "python3"
  },
  "language_info": {
   "codemirror_mode": {
    "name": "ipython",
    "version": 3
   },
   "file_extension": ".py",
   "mimetype": "text/x-python",
   "name": "python",
   "nbconvert_exporter": "python",
   "pygments_lexer": "ipython3",
   "version": "3.9.2+"
  },
  "latex_envs": {
   "LaTeX_envs_menu_present": true,
   "autoclose": true,
   "autocomplete": true,
   "bibliofile": "biblio.bib",
   "cite_by": "apalike",
   "current_citInitial": 1,
   "eqLabelWithNumbers": true,
   "eqNumInitial": 1,
   "hotkeys": {
    "equation": "Ctrl-E",
    "itemize": "Ctrl-I"
   },
   "labels_anchors": false,
   "latex_user_defs": false,
   "report_style_numbering": false,
   "user_envs_cfg": false
  },
  "varInspector": {
   "cols": {
    "lenName": 16,
    "lenType": 16,
    "lenVar": 40
   },
   "kernels_config": {
    "python": {
     "delete_cmd_postfix": "",
     "delete_cmd_prefix": "del ",
     "library": "var_list.py",
     "varRefreshCmd": "print(var_dic_list())"
    },
    "r": {
     "delete_cmd_postfix": ") ",
     "delete_cmd_prefix": "rm(",
     "library": "var_list.r",
     "varRefreshCmd": "cat(var_dic_list()) "
    }
   },
   "types_to_exclude": [
    "module",
    "function",
    "builtin_function_or_method",
    "instance",
    "_Feature"
   ],
   "window_display": false
  }
 },
 "nbformat": 4,
 "nbformat_minor": 4
}
