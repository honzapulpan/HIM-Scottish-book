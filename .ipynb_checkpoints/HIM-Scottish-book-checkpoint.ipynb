{
 "cells": [
  {
   "cell_type": "markdown",
   "metadata": {},
   "source": [
    "![Skotská kniha](titulek.jpg)"
   ]
  },
  {
   "cell_type": "markdown",
   "metadata": {},
   "source": [
    "# Skotská kniha\n",
    "\n",
    "### Honza Půlpán"
   ]
  },
  {
   "cell_type": "markdown",
   "metadata": {},
   "source": [
    "Mezi dvěma světovými válkami se ve Lvově sešla skupina matematiků působící na dvou místních vysokých školách - Lvovském Polytechnickém institutu a Univerzitě Jana Kazimierzkého. Tuto skupinu dnes známe pod jménem Lvovská matematická škola. Zformovali ji tři polští matematici - Stefan Banach, Stanislaw Ulam a Stanislaw Mazur. Tito pánové se pravidelně scházeli nejprve v Café Roma a později v Café Szkocka a společně řešili matematické problémy. Jejich hlavním objektem zájmu byla funkcionální analýza, která v tomto období a na tomto místě zaznamenala svůj největší posun. Po čase začali zaznamenávat tyto matematické problémy do sešitu, který v kavárně nechávali. A tak vznikla Skotská kniha. Toto ale není příběh Skotské knihy, ale celé Lvovské matematické školy a hlavně příběh o tom, jak spolupráce mezi matematiky vede k zajímavým výsledkům. I když je to příběh vlastně hodně smutný.\n",
    "\n",
    "![Café Szkocka](dawny_plac_akademicki_fot_wolne_zadoby_zrodlo_lvivcenter.jpg)\n",
    "_Obr. 1: Café Szkocka v dobách Skotské knihy_\n",
    "\n",
    "Měli bychom si ale nejdříve říci něco o historických souvislostech, období a místě, kdy se náš příběh odehrává. Lvov byl již nějakou dobu před velkou válkou součástí Rakouska Uherska, oblasti známe jako Halič (Galicia) a jmenoval se Lemberg.  Rakousko  ovšem válku prohrálo a Halič se tak stává součástí Polska, Lemberg se přejmenovává na Lwow. Zaznamená ještě poměrně krvavý, i když naštěstí krátký boj o ukrajinskou nezávislost, který Polsko potlačí. \n",
    "\n",
    "Náš příběh začíná ale o něco dříve a to v roce 1917 v Krakově. V této době potkává mladý profesor Hugo Steinhaus dva muže rozprávějící na lavičce v parku o Lebesquově integrálu. Jedním z nich je právě Stefan Banach, v kterém rozpoznává Steinhaus okamžitě nadaného matematika. Banach byl vždy poměrně excentrický člověk, odmítal například skládat jakékoliv zkoužky, přesto se mu i bez toho podařilo obhájit doktorát. Banach začíná se Steinhausem okamžitě spolupracovat. Později v roce 1919 oba změní působiště a ocitají se v té době na prestižním Polytechnické institutu ve Lvově.\n",
    "\n",
    "![Sjezd matematiků ve Lvově 1930](matematicky_sjezd_1930.png)\n",
    "_Obr. 2: Sjezd matematiků ve Lvově 1930_\n",
    "\n",
    "Banach se ve Lvově potkává s Ulamem a později i s Mazurem a stává se hlavou skupiny matematiků, jejichž hlavním zájmem je funkcionální a reálná analýza. Vždy v sobotu se schází matematická společnost na univerzitě a po těchto setkáních se přesouvají do Cafe Szkocka a řeší jednotlivé problémy. Poznámky, úvahy a důkazy píší nejprve přímo na mramorové desky stolů a tak jsou vždy po jejich odchodu zničeny. Později jim Banachova žena Lucja pořídí velký sešit kam začnou jednotlivé problémy a třeba i jejich řešení zaznamenávat."
   ]
  },
  {
   "cell_type": "markdown",
   "metadata": {},
   "source": [
    "Do Skotské knihy (polsky Ksiega Szkocka), jak začnou sešitu schovaném u personálu kavárny říkat, zapíše první problém Stefan Banach 17. července 1935 a týká se Banachových prostorů (jak jim dnes říkáme). Poslední 193. problém zapsal Hugo Steinhaus 31. května 1941 a je jím pravděpodobnostní úloha inspirovaná Banachem a jeho zvykem kouřit jednu cigaretu za druhou. Dnes je problém znám jako \"Banach matchbox problem\".\n",
    "\n",
    "![Problém 1: Banach](problem_1.jpg)\n",
    "_Obr 2: První zápis ve Skotské knize_\n",
    "\n",
    "Nejvíce problémů ve Skotké knize se týká v té době vznikající a rozvíjející se funkcionální analýzy, ale je zde i hodně problémů z teorie grup, topologie, teorie míry, teorie množin a pravděpodobnosti.\n",
    "\n",
    "Většinu problémů zapisuje trojice Banach, Ulam, Mazur, ale objevují se i známá jména jako Fréchet, Schauder, Sobolew, nebo von Neumann kteří jsou ve Lvově na návštěve a samozřjmě i spousta dalších kolegů z obou Lvovských vysokých škol.\n",
    "\n",
    "Ve Skotské knize je celkem 193 problémů. Některé jsou do dnes nevyřešené a matematici se s nimi dále zabývají. Podle vydání z roku 2015 je stale nevyřešeno až 43 problémů. Problémy ve Skotské knize nemají žádné uspořádání a zapisovaly se do ní jak přicházely osazenstvu kavárny na mysl. \n",
    "\n",
    "Rád bych zde uvedl trochu detailněji dva problémy ze Skotské knihy. Oba se týkají teorie pevného bodu, tedy takového prvku nějaké množiny jež se zobrazí sám na sebe a platí $f(x) = x$. Tento zdánlivě snadný výsledek pomohl v následujících letech k publikaci velkého množství dalších matematických vět a výsledků a našel spoustu aplikací speciálně v teorii parciálních diferenciálních rovnic.\n"
   ]
  },
  {
   "cell_type": "markdown",
   "metadata": {},
   "source": [
    "### Problém 42: Ulam\n",
    "\n",
    "Ke každé uzavřené, konvexní množině $X$, obsažené v kouli (sféře?) $K$ v Euklidovském prostoru, je spojitě (ve smyslu Hausdorffovy metriky) přiřazena jiná konvexní uzavřená množina $f(X)$ obsažená v $K$. Existuje pevný bod, tedy uzavřená, konvexní množina $X_0$ a platí $f(X_0) = X_0$?\n",
    "\n",
    "__Věta (Mazur)__:\\\n",
    "Necht $E$ je třída konvexních uzavřených množin, obsažených v kouli $K$ s vlastnostmi:\n",
    "\n",
    "1. Jestliže $A \\in E$, $B \\in E$, potom také $\\lambda A + (1-\\lambda)B \\in E$ pro $0 \\leq \\lambda \\geq 1$.\n",
    "2. Jestliže $A_n \\in E$ a posloupnost $\\{A_n\\}_{n=1}^{+\\infty}$ konverguje k $A$, potom i $A \\in E$.\n",
    "\n",
    "Předpokládejme, že $f(x)$ je spojitá funkce v $E$, jejíž obor hodnot je v $E$. Potom existuje pevný bod, tedy $X_0 \\in E$ takové, že $f(X_0)=X_0$.\n",
    "\n",
    "Příkladem takové třídy $E$ jsou například všechny uzavřené, konvexní množiny obsažné v $K$ s poloměrem ne větším než dané číslo $\\phi > 0$.\n",
    "\n",
    "![Problém 42: Ulam](problem_42.jpg)"
   ]
  },
  {
   "cell_type": "markdown",
   "metadata": {},
   "source": [
    "### Problém 54: Schauder\n",
    "\n",
    "Dnes známo jako Schauderova věta o pevném bodě a je základem spoustu dalších vět o pevném bodě.\n",
    "\n",
    "Něcht $H$ je konvexní, uzavřená a kompaktní množina. $U(x): H \\mapsto \\mathcal{M} \\subset H$ je spojité zobrazení zobrazující $H$ na podmožinu $\\mathcal{M}$. $H$ je podmnožinou prostoru typu $(F)$. Existuje pevný bod zobrazení $U(x)$?\n",
    "\n",
    "(b) Vyřešte stejný problém pro libovolný lineární topologický prostor nebo takový prostor, ve kterém existují libovolně malé konvexní okolí.\n",
    "\n",
    "Řešení:\n",
    "Na obě otázky v části (b) existuje řešení už delší dobu. První část problému byla ovšem dokázána až v roce 2005 R. Cautym (Rétractes absolus de voisinage algébriques, Serdica Math. J. 31 (2005), no. 4, 309–354) \n",
    "\n",
    "![Problém 54: Schauder](problem_54.jpg)\n"
   ]
  },
  {
   "cell_type": "markdown",
   "metadata": {},
   "source": [
    "- Ulam už v roce 1936? Lvov opouští a přesouvá se do USA. Do Lvova se ale vždy v létě vrací\n",
    "- poslední jeho návštěva je v létě 1939\n",
    "- poté se začátkem druhé světové války obsazují Lvov rusové\n",
    "- od té doby se ve Scottish book objevují i ruská jména\n",
    "- židovstí matematici (jména) utíkají, někteří jsou bohužel zabiti\n",
    "- Scottish book končí a během války je ukryta\n",
    "- Později Lvov obsazují na dlouhých X let němci. Banach se musí živit jako pokusný králík (popsat detaily)\n",
    "- těsně po konci války umírá na rakovinu (byl chain smoker)\n",
    "- Scottish book se ocitá v krakově, kam se matematici po opětovné zabrání Lvova a celé Ukrajiny rusy přesouvájí\n",
    "- později ji Steinhaus posílá do ameriky Ulamovi a ten ji v roce 195X poprvé publikuje v anglickém překladu.\n",
    "\n",
    "\n",
    "Po válce se Lvov stává součástí Ukrajinské svazové republiky v rámci Sovětského svazu. Většina matematiků se tak přesouvá do Vratislavy (Wroclaw), města které po německé okupaci opět patří Polsku. Rekonstruje se prakticky úplně zničená Vratislavská Univerzita a matematici ze Lvova zakládají novou Politechnickou vysokou školu. 2. července 1946 Hugo Steinhaus, který vytvořil posldní záznam ve Skotské knize, zaznamenává i první problém do Nové Skotské knihy, která je Vratislavy dodnes, i když nových záznamů v ní po roce 1979 už moc není. Už v roce 1946 do Nové Skotské knihy přispívá i Václav Jarník, významný matematik k pražského Matfyzu. Ten svůj problém popisuje francouzsky a jako cenu za vyřešení nabízí poměrně hodně Plzenského piva.\n",
    "\n",
    "![Nová Skotská kniha - Václav Jarník](jarnik.jpg)\n",
    "_Zápis v Nové Skotské knize od Václava Jarníka_\n",
    "\n",
    "V součastnosti je v zrekontruovaném Scottish Cafe (je to dnes hotel) Lvovská Scottish book, kam návštěvníci mohou psát další matematické problémy. Tu si můžeme prohlídnout na internetu.\n",
    "\n",
    "Příběh Scottish book je jediněčný v tom, že ukazuje jak důležitá je spolupráce mezi matematiky. Takových skupin bylo v historii docela dost, ale ta Lvovská je asi nejznámější i právě díky Scottish book."
   ]
  },
  {
   "cell_type": "markdown",
   "metadata": {},
   "source": [
    "#### Literatura\n",
    "\n",
    "(1) Scottish book\\\n",
    "(2) Wikipedie\\\n",
    "(3) Obrázky: https://culture.pl/en/article/maths-madness-and-the-manhattan-project-the-eccentric-lives-of-steinhaus-banach-and-ulam"
   ]
  },
  {
   "cell_type": "code",
   "execution_count": null,
   "metadata": {},
   "outputs": [],
   "source": []
  }
 ],
 "metadata": {
  "kernelspec": {
   "display_name": "Python 3",
   "language": "python",
   "name": "python3"
  },
  "language_info": {
   "codemirror_mode": {
    "name": "ipython",
    "version": 3
   },
   "file_extension": ".py",
   "mimetype": "text/x-python",
   "name": "python",
   "nbconvert_exporter": "python",
   "pygments_lexer": "ipython3",
   "version": "3.9.2+"
  },
  "latex_envs": {
   "LaTeX_envs_menu_present": true,
   "autoclose": true,
   "autocomplete": true,
   "bibliofile": "biblio.bib",
   "cite_by": "apalike",
   "current_citInitial": 1,
   "eqLabelWithNumbers": true,
   "eqNumInitial": 1,
   "hotkeys": {
    "equation": "Ctrl-E",
    "itemize": "Ctrl-I"
   },
   "labels_anchors": false,
   "latex_user_defs": false,
   "report_style_numbering": false,
   "user_envs_cfg": false
  },
  "varInspector": {
   "cols": {
    "lenName": 16,
    "lenType": 16,
    "lenVar": 40
   },
   "kernels_config": {
    "python": {
     "delete_cmd_postfix": "",
     "delete_cmd_prefix": "del ",
     "library": "var_list.py",
     "varRefreshCmd": "print(var_dic_list())"
    },
    "r": {
     "delete_cmd_postfix": ") ",
     "delete_cmd_prefix": "rm(",
     "library": "var_list.r",
     "varRefreshCmd": "cat(var_dic_list()) "
    }
   },
   "types_to_exclude": [
    "module",
    "function",
    "builtin_function_or_method",
    "instance",
    "_Feature"
   ],
   "window_display": false
  }
 },
 "nbformat": 4,
 "nbformat_minor": 4
}
